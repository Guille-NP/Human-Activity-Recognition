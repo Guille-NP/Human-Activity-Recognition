{
 "cells": [
  {
   "cell_type": "markdown",
   "metadata": {},
   "source": [
    "### Import basic necessary libraries"
   ]
  },
  {
   "cell_type": "code",
   "execution_count": 24,
   "metadata": {},
   "outputs": [],
   "source": [
    "import os\n",
    "import numpy as np\n",
    "import pandas as pd\n",
    "from matplotlib import pyplot as plt\n",
    "import csv"
   ]
  },
  {
   "cell_type": "markdown",
   "metadata": {},
   "source": [
    "### Sorting images from .csv file"
   ]
  },
  {
   "cell_type": "code",
   "execution_count": 25,
   "metadata": {},
   "outputs": [],
   "source": [
    "'''\n",
    "names = data['NAME'].unique()\n",
    "images_path = (\"..\\Datasets\\mpii_human_pose\\human_pose_images\")\n",
    "count = 0\n",
    "for name in names:\n",
    "    source_path = images_path + \"\\\\\" + name\n",
    "    category = np.array(data.loc[data['NAME'] == name, 'Category'])[0]\n",
    "    destination_path = images_path + \"\\\\\" + \"in_csv\" + \"\\\\\" + name\n",
    "    \n",
    "    if os.path.isfile(source_path):\n",
    "        os.rename(source_path, destination_path)\n",
    "    count += 1\n",
    "    if count % 250 == 0:\n",
    "        print(count)\n",
    "\n",
    "print(count)\n",
    "''';"
   ]
  },
  {
   "cell_type": "code",
   "execution_count": 26,
   "metadata": {
    "scrolled": true
   },
   "outputs": [
    {
     "data": {
      "text/html": [
       "<div>\n",
       "<style scoped>\n",
       "    .dataframe tbody tr th:only-of-type {\n",
       "        vertical-align: middle;\n",
       "    }\n",
       "\n",
       "    .dataframe tbody tr th {\n",
       "        vertical-align: top;\n",
       "    }\n",
       "\n",
       "    .dataframe thead th {\n",
       "        text-align: right;\n",
       "    }\n",
       "</style>\n",
       "<table border=\"1\" class=\"dataframe\">\n",
       "  <thead>\n",
       "    <tr style=\"text-align: right;\">\n",
       "      <th></th>\n",
       "      <th>NAME</th>\n",
       "      <th>Activity</th>\n",
       "      <th>Category</th>\n",
       "    </tr>\n",
       "  </thead>\n",
       "  <tbody>\n",
       "    <tr>\n",
       "      <th>0</th>\n",
       "      <td>015601864.jpg</td>\n",
       "      <td>curling</td>\n",
       "      <td>sports</td>\n",
       "    </tr>\n",
       "    <tr>\n",
       "      <th>1</th>\n",
       "      <td>015599452.jpg</td>\n",
       "      <td>curling</td>\n",
       "      <td>sports</td>\n",
       "    </tr>\n",
       "    <tr>\n",
       "      <th>2</th>\n",
       "      <td>005808361.jpg</td>\n",
       "      <td>curling</td>\n",
       "      <td>sports</td>\n",
       "    </tr>\n",
       "    <tr>\n",
       "      <th>3</th>\n",
       "      <td>086617615.jpg</td>\n",
       "      <td>curling</td>\n",
       "      <td>sports</td>\n",
       "    </tr>\n",
       "    <tr>\n",
       "      <th>4</th>\n",
       "      <td>060111501.jpg</td>\n",
       "      <td>curling</td>\n",
       "      <td>sports</td>\n",
       "    </tr>\n",
       "    <tr>\n",
       "      <th>...</th>\n",
       "      <td>...</td>\n",
       "      <td>...</td>\n",
       "      <td>...</td>\n",
       "    </tr>\n",
       "    <tr>\n",
       "      <th>17367</th>\n",
       "      <td>033474347.jpg</td>\n",
       "      <td>pushing car</td>\n",
       "      <td>transportation</td>\n",
       "    </tr>\n",
       "    <tr>\n",
       "      <th>17368</th>\n",
       "      <td>082650067.jpg</td>\n",
       "      <td>pushing car</td>\n",
       "      <td>transportation</td>\n",
       "    </tr>\n",
       "    <tr>\n",
       "      <th>17369</th>\n",
       "      <td>072772110.jpg</td>\n",
       "      <td>pushing car</td>\n",
       "      <td>transportation</td>\n",
       "    </tr>\n",
       "    <tr>\n",
       "      <th>17370</th>\n",
       "      <td>039361034.jpg</td>\n",
       "      <td>pushing car</td>\n",
       "      <td>transportation</td>\n",
       "    </tr>\n",
       "    <tr>\n",
       "      <th>17371</th>\n",
       "      <td>084761779.jpg</td>\n",
       "      <td>pushing car</td>\n",
       "      <td>transportation</td>\n",
       "    </tr>\n",
       "  </tbody>\n",
       "</table>\n",
       "<p>17372 rows × 3 columns</p>\n",
       "</div>"
      ],
      "text/plain": [
       "                NAME     Activity        Category\n",
       "0      015601864.jpg      curling          sports\n",
       "1      015599452.jpg      curling          sports\n",
       "2      005808361.jpg      curling          sports\n",
       "3      086617615.jpg      curling          sports\n",
       "4      060111501.jpg      curling          sports\n",
       "...              ...          ...             ...\n",
       "17367  033474347.jpg  pushing car  transportation\n",
       "17368  082650067.jpg  pushing car  transportation\n",
       "17369  072772110.jpg  pushing car  transportation\n",
       "17370  039361034.jpg  pushing car  transportation\n",
       "17371  084761779.jpg  pushing car  transportation\n",
       "\n",
       "[17372 rows x 3 columns]"
      ]
     },
     "execution_count": 26,
     "metadata": {},
     "output_type": "execute_result"
    }
   ],
   "source": [
    "data = pd.read_csv('mpii_dataset_clean_v2.csv')\n",
    "data"
   ]
  },
  {
   "cell_type": "code",
   "execution_count": 27,
   "metadata": {
    "scrolled": true
   },
   "outputs": [
    {
     "data": {
      "text/plain": [
       "array(['sports', 'inactivity quiet-light', 'miscellaneous', 'occupation',\n",
       "       'water activities', 'home activities', 'lawn and garden',\n",
       "       'religious activities', 'winter activities',\n",
       "       'conditioning exercise', 'bicycling', 'fishing and hunting',\n",
       "       'dancing', 'walking', 'running', 'self care', 'home repair',\n",
       "       'music playing', 'transportation', 'volunteer activities'],\n",
       "      dtype=object)"
      ]
     },
     "execution_count": 27,
     "metadata": {},
     "output_type": "execute_result"
    }
   ],
   "source": [
    "data.Category.unique()"
   ]
  },
  {
   "cell_type": "code",
   "execution_count": 1,
   "metadata": {},
   "outputs": [],
   "source": [
    "'''\n",
    "print(data.isnull().values.any())\n",
    "print(data['Activity'].unique().shape)\n",
    "print(data['Category'].unique().shape)\n",
    "print(data['Activity'].unique())''';"
   ]
  },
  {
   "cell_type": "markdown",
   "metadata": {},
   "source": [
    "### Image rescaling script (if necessary)"
   ]
  },
  {
   "cell_type": "code",
   "execution_count": 29,
   "metadata": {},
   "outputs": [],
   "source": [
    "'''\n",
    "from PIL import Image\n",
    "import os, sys\n",
    "\n",
    "path = ('..\\Datasets\\mpii_human_pose\\human_pose_images')\n",
    "dirs = os.listdir(path)\n",
    "outpath  = (r'..\\Datasets\\mpii_human_pose\\resized_images' + '\\\\')\n",
    "count = 0\n",
    "for item in dirs:\n",
    "    count += 1\n",
    "    obj = path + '\\\\' + item\n",
    "    if os.path.isfile(obj):\n",
    "        im = Image.open(obj)\n",
    "        f, e = os.path.splitext(item)\n",
    "        imResize = im.resize((256, 256), Image.ANTIALIAS)\n",
    "        imResize.save(outpath + '\\\\' + f + '.jpeg', 'JPEG', quality=90)\n",
    "        if count % 100 == 0:\n",
    "            print(count)\n",
    "            ''';"
   ]
  },
  {
   "cell_type": "markdown",
   "metadata": {},
   "source": [
    "### Sorting images in corresponding folders."
   ]
  },
  {
   "cell_type": "code",
   "execution_count": 30,
   "metadata": {},
   "outputs": [],
   "source": [
    "x = data.drop('Category', axis=1)\n",
    "y = data['Category']"
   ]
  },
  {
   "cell_type": "code",
   "execution_count": 31,
   "metadata": {},
   "outputs": [
    {
     "data": {
      "text/html": [
       "<div>\n",
       "<style scoped>\n",
       "    .dataframe tbody tr th:only-of-type {\n",
       "        vertical-align: middle;\n",
       "    }\n",
       "\n",
       "    .dataframe tbody tr th {\n",
       "        vertical-align: top;\n",
       "    }\n",
       "\n",
       "    .dataframe thead th {\n",
       "        text-align: right;\n",
       "    }\n",
       "</style>\n",
       "<table border=\"1\" class=\"dataframe\">\n",
       "  <thead>\n",
       "    <tr style=\"text-align: right;\">\n",
       "      <th></th>\n",
       "      <th>NAME</th>\n",
       "      <th>Activity</th>\n",
       "    </tr>\n",
       "  </thead>\n",
       "  <tbody>\n",
       "    <tr>\n",
       "      <th>230</th>\n",
       "      <td>069597421.jpg</td>\n",
       "      <td>sitting, talking in person, on the phone, comp...</td>\n",
       "    </tr>\n",
       "    <tr>\n",
       "      <th>2141</th>\n",
       "      <td>073872315.jpg</td>\n",
       "      <td>standing, arts and crafts, sand painting, carv...</td>\n",
       "    </tr>\n",
       "    <tr>\n",
       "      <th>15789</th>\n",
       "      <td>058772539.jpg</td>\n",
       "      <td>eating, sitting</td>\n",
       "    </tr>\n",
       "    <tr>\n",
       "      <th>2386</th>\n",
       "      <td>069963957.jpg</td>\n",
       "      <td>rowing, stationary</td>\n",
       "    </tr>\n",
       "    <tr>\n",
       "      <th>10744</th>\n",
       "      <td>061143424.jpg</td>\n",
       "      <td>bicycling, stationary</td>\n",
       "    </tr>\n",
       "    <tr>\n",
       "      <th>...</th>\n",
       "      <td>...</td>\n",
       "      <td>...</td>\n",
       "    </tr>\n",
       "    <tr>\n",
       "      <th>14696</th>\n",
       "      <td>006110708.jpg</td>\n",
       "      <td>ballroom</td>\n",
       "    </tr>\n",
       "    <tr>\n",
       "      <th>1099</th>\n",
       "      <td>039090600.jpg</td>\n",
       "      <td>irrigation channels, opening and closing ports</td>\n",
       "    </tr>\n",
       "    <tr>\n",
       "      <th>11798</th>\n",
       "      <td>073432341.jpg</td>\n",
       "      <td>water aerobics, water calisthenics</td>\n",
       "    </tr>\n",
       "    <tr>\n",
       "      <th>6637</th>\n",
       "      <td>093874989.jpg</td>\n",
       "      <td>soccer</td>\n",
       "    </tr>\n",
       "    <tr>\n",
       "      <th>2575</th>\n",
       "      <td>089556285.jpg</td>\n",
       "      <td>moving furniture, household items, carrying boxes</td>\n",
       "    </tr>\n",
       "  </tbody>\n",
       "</table>\n",
       "<p>13897 rows × 2 columns</p>\n",
       "</div>"
      ],
      "text/plain": [
       "                NAME                                           Activity\n",
       "230    069597421.jpg  sitting, talking in person, on the phone, comp...\n",
       "2141   073872315.jpg  standing, arts and crafts, sand painting, carv...\n",
       "15789  058772539.jpg                                    eating, sitting\n",
       "2386   069963957.jpg                                 rowing, stationary\n",
       "10744  061143424.jpg                              bicycling, stationary\n",
       "...              ...                                                ...\n",
       "14696  006110708.jpg                                           ballroom\n",
       "1099   039090600.jpg     irrigation channels, opening and closing ports\n",
       "11798  073432341.jpg                 water aerobics, water calisthenics\n",
       "6637   093874989.jpg                                             soccer\n",
       "2575   089556285.jpg  moving furniture, household items, carrying boxes\n",
       "\n",
       "[13897 rows x 2 columns]"
      ]
     },
     "execution_count": 31,
     "metadata": {},
     "output_type": "execute_result"
    }
   ],
   "source": [
    "from sklearn.model_selection import train_test_split\n",
    "x_train,x_test,y_train,y_test = train_test_split(x, y, \n",
    "                                                 test_size = 0.20, random_state = 2)\n",
    "x_train"
   ]
  },
  {
   "cell_type": "markdown",
   "metadata": {},
   "source": [
    "**Sorting in 'train' and 'test' folders. Only to be done once since seed value random_state=2 will always output the same distribution**\n"
   ]
  },
  {
   "cell_type": "code",
   "execution_count": 32,
   "metadata": {},
   "outputs": [],
   "source": [
    "'''\n",
    "names_train = x_train['NAME'].unique()\n",
    "names_test = x_test['NAME'].unique()\n",
    "\n",
    "names = np.concatenate((names_train, names_test), axis=0)\n",
    "\n",
    "images_path = (\"..\\Datasets\\mpii_human_pose\\human_pose_images\")\n",
    "count = 0\n",
    "for name in names:\n",
    "    source_path = images_path + \"\\\\\" + name\n",
    "    if name in names_train:\n",
    "        folder = 'train'\n",
    "    elif name in names_test:\n",
    "        folder = 'test'\n",
    "        \n",
    "    destination_path = images_path + \"\\\\\" + folder + \"\\\\\" + name\n",
    "    \n",
    "    if os.path.isfile(source_path):\n",
    "        os.rename(source_path, destination_path)\n",
    "    count += 1\n",
    "    if count % 250 == 0:\n",
    "        print(count)\n",
    "\n",
    "print(count)\n",
    "''';"
   ]
  },
  {
   "cell_type": "markdown",
   "metadata": {},
   "source": [
    "**Sorting images in the different (20) category folders**"
   ]
  },
  {
   "cell_type": "code",
   "execution_count": 33,
   "metadata": {},
   "outputs": [],
   "source": [
    "'''\n",
    "# Repartir imágenes en carpetas-categorías\n",
    "\n",
    "names_train = x_train['NAME'].unique()\n",
    "names_test = x_test['NAME'].unique()\n",
    "\n",
    "names = np.concatenate((names_train, names_test), axis=0)\n",
    "\n",
    "images_path = (\"..\\Datasets\\mpii_human_pose\\human_pose_images\")\n",
    "train_dir = os.path.join(images_path, \"train\")\n",
    "test_dir =  os.path.join(images_path, \"test\")\n",
    "\n",
    "categories = np.array(data['Category'].unique())\n",
    "\n",
    "# Crear carpetas para categorías\n",
    "#for category in categories:\n",
    "#    os.mkdir(os.path.join(train_dir, category))\n",
    "#    os.mkdir(os.path.join(test_dir, category))\n",
    "\n",
    "count = 0\n",
    "for name in names:\n",
    "    category_image = np.array(data[data['NAME'] == name].Category)[0]\n",
    "\n",
    "    if name in names_train:\n",
    "        folder = 'train'\n",
    "    elif name in names_test:\n",
    "        folder = 'test'      \n",
    "        \n",
    "    source_path = os.path.join(images_path, folder, name)\n",
    "    destination_path = os.path.join(images_path, folder, category_image, name)\n",
    "\n",
    "    if os.path.isfile(source_path):\n",
    "        os.rename(source_path, destination_path)\n",
    "        \n",
    "    count += 1\n",
    "    if count % 250 == 0:\n",
    "        print(count)\n",
    "''';"
   ]
  },
  {
   "cell_type": "markdown",
   "metadata": {},
   "source": [
    "# Convolutional Neural Network (CNN) Model"
   ]
  },
  {
   "cell_type": "code",
   "execution_count": 34,
   "metadata": {},
   "outputs": [],
   "source": [
    "import tensorflow as tf"
   ]
  },
  {
   "cell_type": "code",
   "execution_count": 35,
   "metadata": {},
   "outputs": [],
   "source": [
    "model = tf.keras.models.Sequential([\n",
    "    # Desired size of the image 256x256 with 3 bytes color\n",
    "    tf.keras.layers.Conv2D(60, (3,3), activation='relu', input_shape=(150, 150, 3)), # Mantener a 150x150\n",
    "    tf.keras.layers.MaxPooling2D(2,2),\n",
    "    tf.keras.layers.Conv2D(80, (3,3), activation='relu'),  \n",
    "    tf.keras.layers.MaxPooling2D(2,2),\n",
    "    tf.keras.layers.Conv2D(100, (3,3), activation='relu'),  # Meter cuarta capa de conv y maxpool o aumentar filtros en todas las capas\n",
    "    tf.keras.layers.MaxPooling2D(2,2),\n",
    "    tf.keras.layers.Conv2D(120, (3,3), activation='relu'),  \n",
    "    tf.keras.layers.MaxPooling2D(2,2),\n",
    "    # Flatten layer\n",
    "    tf.keras.layers.Dropout(0.3),  # 0.25<dropout<0.5\n",
    "    tf.keras.layers.Flatten(),\n",
    "    # 512 neuron hidden layer\n",
    "    tf.keras.layers.Dense(256, activation='relu'),\n",
    "    tf.keras.layers.Dense(128, activation='relu'),\n",
    "    # Output layer\n",
    "    tf.keras.layers.Dense(20, activation='softmax')    \n",
    "])"
   ]
  },
  {
   "cell_type": "code",
   "execution_count": 36,
   "metadata": {},
   "outputs": [
    {
     "name": "stdout",
     "output_type": "stream",
     "text": [
      "Model: \"sequential_2\"\n",
      "_________________________________________________________________\n",
      "Layer (type)                 Output Shape              Param #   \n",
      "=================================================================\n",
      "conv2d_8 (Conv2D)            (None, 148, 148, 60)      1680      \n",
      "_________________________________________________________________\n",
      "max_pooling2d_8 (MaxPooling2 (None, 74, 74, 60)        0         \n",
      "_________________________________________________________________\n",
      "conv2d_9 (Conv2D)            (None, 72, 72, 80)        43280     \n",
      "_________________________________________________________________\n",
      "max_pooling2d_9 (MaxPooling2 (None, 36, 36, 80)        0         \n",
      "_________________________________________________________________\n",
      "conv2d_10 (Conv2D)           (None, 34, 34, 100)       72100     \n",
      "_________________________________________________________________\n",
      "max_pooling2d_10 (MaxPooling (None, 17, 17, 100)       0         \n",
      "_________________________________________________________________\n",
      "conv2d_11 (Conv2D)           (None, 15, 15, 120)       108120    \n",
      "_________________________________________________________________\n",
      "max_pooling2d_11 (MaxPooling (None, 7, 7, 120)         0         \n",
      "_________________________________________________________________\n",
      "dropout_2 (Dropout)          (None, 7, 7, 120)         0         \n",
      "_________________________________________________________________\n",
      "flatten_2 (Flatten)          (None, 5880)              0         \n",
      "_________________________________________________________________\n",
      "dense_6 (Dense)              (None, 256)               1505536   \n",
      "_________________________________________________________________\n",
      "dense_7 (Dense)              (None, 128)               32896     \n",
      "_________________________________________________________________\n",
      "dense_8 (Dense)              (None, 20)                2580      \n",
      "=================================================================\n",
      "Total params: 1,766,192\n",
      "Trainable params: 1,766,192\n",
      "Non-trainable params: 0\n",
      "_________________________________________________________________\n"
     ]
    }
   ],
   "source": [
    "model.summary()"
   ]
  },
  {
   "cell_type": "code",
   "execution_count": 37,
   "metadata": {},
   "outputs": [],
   "source": [
    "from tensorflow.keras.optimizers import RMSprop\n",
    "\n",
    "SGD_opt = tf.keras.optimizers.SGD(learning_rate=0.01, \n",
    "                                  momentum=0.9)\n",
    "\n",
    "model.compile(optimizer = SGD_opt, #SGD con momentum (sin SGD estoy encontrando puntos de silla)\n",
    "              loss = 'categorical_crossentropy', # Probar 'sparse_categorical_crossentropy'\n",
    "              metrics=['accuracy'])"
   ]
  },
  {
   "cell_type": "code",
   "execution_count": 38,
   "metadata": {},
   "outputs": [],
   "source": [
    "images_path = (\"..\\Datasets\\mpii_human_pose\\human_pose_images\")\n",
    "train_dir = os.path.join(images_path, \"train\")\n",
    "test_dir =  os.path.join(images_path, \"test\")"
   ]
  },
  {
   "cell_type": "code",
   "execution_count": 39,
   "metadata": {},
   "outputs": [
    {
     "name": "stdout",
     "output_type": "stream",
     "text": [
      "Found 13897 images belonging to 20 classes.\n",
      "Found 3475 images belonging to 20 classes.\n"
     ]
    }
   ],
   "source": [
    "from tensorflow.keras.preprocessing.image import ImageDataGenerator\n",
    "\n",
    "train_datagen = ImageDataGenerator(rescale = 1.0/255.0,         # Hacer Data augmentation\n",
    "                                   #featurewise_center = True,\n",
    "                                   #featurewise_std_normalization = True,\n",
    "                                   rotation_range = 20,\n",
    "                                   width_shift_range = 0.2,\n",
    "                                   height_shift_range = 0.2,\n",
    "                                   shear_range = 0.2,\n",
    "                                   zoom_range = 0.1,\n",
    "                                   horizontal_flip = True)\n",
    "\n",
    "test_datagen = ImageDataGenerator(rescale = 1.0/255.0)\n",
    "\n",
    "train_generator = train_datagen.flow_from_directory(train_dir, batch_size = 20,\n",
    "                                                    class_mode = 'categorical', \n",
    "                                                    target_size =(150,150))\n",
    "\n",
    "test_generator = test_datagen.flow_from_directory(test_dir, batch_size = 20,\n",
    "                                                 class_mode = 'categorical', \n",
    "                                                  target_size = (150,150))"
   ]
  },
  {
   "cell_type": "code",
   "execution_count": 42,
   "metadata": {},
   "outputs": [
    {
     "name": "stdout",
     "output_type": "stream",
     "text": [
      "Epoch 1/100\n",
      "695/695 [==============================] - 959s 1s/step - loss: 2.6005 - accuracy: 0.1970 - val_loss: 2.5927 - val_accuracy: 0.2009\n",
      "Epoch 2/100\n",
      "695/695 [==============================] - 874s 1s/step - loss: 2.5352 - accuracy: 0.2023 - val_loss: 2.5149 - val_accuracy: 0.1862\n",
      "Epoch 3/100\n",
      "695/695 [==============================] - 791s 1s/step - loss: 2.5056 - accuracy: 0.2123 - val_loss: 2.5030 - val_accuracy: 0.2098\n",
      "Epoch 4/100\n",
      "695/695 [==============================] - 865s 1s/step - loss: 2.4442 - accuracy: 0.2297 - val_loss: 2.4675 - val_accuracy: 0.2319\n",
      "Epoch 5/100\n",
      "695/695 [==============================] - 815s 1s/step - loss: 2.3927 - accuracy: 0.2434 - val_loss: 2.3955 - val_accuracy: 0.2305\n",
      "Epoch 6/100\n",
      "695/695 [==============================] - 804s 1s/step - loss: 2.3488 - accuracy: 0.2516 - val_loss: 2.3250 - val_accuracy: 0.2584\n",
      "Epoch 7/100\n",
      "695/695 [==============================] - 823s 1s/step - loss: 2.3078 - accuracy: 0.2638 - val_loss: 2.2810 - val_accuracy: 0.2653\n",
      "Epoch 8/100\n",
      "695/695 [==============================] - 913s 1s/step - loss: 2.2738 - accuracy: 0.2731 - val_loss: 2.3041 - val_accuracy: 0.2633\n",
      "Epoch 9/100\n",
      "695/695 [==============================] - 937s 1s/step - loss: 2.2233 - accuracy: 0.2914 - val_loss: 2.2226 - val_accuracy: 0.2840\n",
      "Epoch 10/100\n",
      "695/695 [==============================] - 930s 1s/step - loss: 2.2091 - accuracy: 0.2976 - val_loss: 2.2045 - val_accuracy: 0.2973\n",
      "Epoch 11/100\n",
      "695/695 [==============================] - 827s 1s/step - loss: 2.1709 - accuracy: 0.3097 - val_loss: 2.1619 - val_accuracy: 0.3102\n",
      "Epoch 12/100\n",
      "695/695 [==============================] - 723s 1s/step - loss: 2.1363 - accuracy: 0.3178 - val_loss: 2.1028 - val_accuracy: 0.3220\n",
      "Epoch 13/100\n",
      "695/695 [==============================] - 799s 1s/step - loss: 2.1104 - accuracy: 0.3285 - val_loss: 2.0687 - val_accuracy: 0.3335\n",
      "Epoch 14/100\n",
      "695/695 [==============================] - 899s 1s/step - loss: 2.0802 - accuracy: 0.3423 - val_loss: 2.1431 - val_accuracy: 0.3258\n",
      "Epoch 15/100\n",
      "695/695 [==============================] - 897s 1s/step - loss: 2.0711 - accuracy: 0.3373 - val_loss: 2.0511 - val_accuracy: 0.3499\n",
      "Epoch 16/100\n",
      "695/695 [==============================] - 858s 1s/step - loss: 2.0482 - accuracy: 0.3418 - val_loss: 2.0893 - val_accuracy: 0.3304\n",
      "Epoch 17/100\n",
      "695/695 [==============================] - 836s 1s/step - loss: 2.0356 - accuracy: 0.3535 - val_loss: 1.9616 - val_accuracy: 0.3801\n",
      "Epoch 18/100\n",
      "695/695 [==============================] - 758s 1s/step - loss: 2.0016 - accuracy: 0.3623 - val_loss: 2.0349 - val_accuracy: 0.3321\n",
      "Epoch 19/100\n",
      "695/695 [==============================] - 703s 1s/step - loss: 1.9798 - accuracy: 0.3668 - val_loss: 2.0228 - val_accuracy: 0.3577\n",
      "Epoch 20/100\n",
      "695/695 [==============================] - 702s 1s/step - loss: 1.9694 - accuracy: 0.3742 - val_loss: 2.0140 - val_accuracy: 0.3473\n",
      "Epoch 21/100\n",
      "695/695 [==============================] - 700s 1s/step - loss: 1.9405 - accuracy: 0.3811 - val_loss: 1.9793 - val_accuracy: 0.3709\n",
      "Epoch 22/100\n",
      "695/695 [==============================] - 700s 1s/step - loss: 1.9269 - accuracy: 0.3840 - val_loss: 1.9471 - val_accuracy: 0.3819\n",
      "Epoch 23/100\n",
      "695/695 [==============================] - 702s 1s/step - loss: 1.9329 - accuracy: 0.3810 - val_loss: 1.9259 - val_accuracy: 0.3922\n",
      "Epoch 24/100\n",
      "695/695 [==============================] - 700s 1s/step - loss: 1.8991 - accuracy: 0.3988 - val_loss: 1.9146 - val_accuracy: 0.3980\n",
      "Epoch 25/100\n",
      "695/695 [==============================] - 702s 1s/step - loss: 1.8869 - accuracy: 0.4002 - val_loss: 1.8696 - val_accuracy: 0.4063\n",
      "Epoch 26/100\n",
      "695/695 [==============================] - 701s 1s/step - loss: 1.8807 - accuracy: 0.4019 - val_loss: 1.8864 - val_accuracy: 0.3940\n",
      "Epoch 27/100\n",
      "695/695 [==============================] - 699s 1s/step - loss: 1.8679 - accuracy: 0.4060 - val_loss: 1.8743 - val_accuracy: 0.4193\n",
      "Epoch 28/100\n",
      "695/695 [==============================] - 700s 1s/step - loss: 1.8416 - accuracy: 0.4143 - val_loss: 1.7954 - val_accuracy: 0.4342\n",
      "Epoch 29/100\n",
      "695/695 [==============================] - 702s 1s/step - loss: 1.8338 - accuracy: 0.4196 - val_loss: 1.8324 - val_accuracy: 0.4371\n",
      "Epoch 30/100\n",
      "695/695 [==============================] - 700s 1s/step - loss: 1.8408 - accuracy: 0.4166 - val_loss: 1.8086 - val_accuracy: 0.4291\n",
      "Epoch 31/100\n",
      "695/695 [==============================] - 704s 1s/step - loss: 1.8172 - accuracy: 0.4197 - val_loss: 1.8910 - val_accuracy: 0.4144\n",
      "Epoch 32/100\n",
      "695/695 [==============================] - 700s 1s/step - loss: 1.8125 - accuracy: 0.4259 - val_loss: 1.8866 - val_accuracy: 0.4230\n",
      "Epoch 33/100\n",
      "695/695 [==============================] - 700s 1s/step - loss: 1.7905 - accuracy: 0.4302 - val_loss: 1.7559 - val_accuracy: 0.4599\n",
      "Epoch 34/100\n",
      "695/695 [==============================] - 701s 1s/step - loss: 1.7744 - accuracy: 0.4406 - val_loss: 1.8401 - val_accuracy: 0.4420\n",
      "Epoch 35/100\n",
      "695/695 [==============================] - 701s 1s/step - loss: 1.7742 - accuracy: 0.4389 - val_loss: 1.8012 - val_accuracy: 0.4452\n",
      "Epoch 36/100\n",
      "695/695 [==============================] - 699s 1s/step - loss: 1.7740 - accuracy: 0.4384 - val_loss: 1.8224 - val_accuracy: 0.4348\n",
      "Epoch 37/100\n",
      "695/695 [==============================] - 698s 1s/step - loss: 1.7533 - accuracy: 0.4398 - val_loss: 1.8304 - val_accuracy: 0.4472\n",
      "Epoch 38/100\n",
      "695/695 [==============================] - 699s 1s/step - loss: 1.7477 - accuracy: 0.4501 - val_loss: 1.7508 - val_accuracy: 0.4518\n",
      "Epoch 39/100\n",
      "695/695 [==============================] - 700s 1s/step - loss: 1.7301 - accuracy: 0.4513 - val_loss: 1.7896 - val_accuracy: 0.4553\n",
      "Epoch 40/100\n",
      "695/695 [==============================] - 700s 1s/step - loss: 1.7408 - accuracy: 0.4546 - val_loss: 1.8222 - val_accuracy: 0.4449\n",
      "Epoch 41/100\n",
      "695/695 [==============================] - 699s 1s/step - loss: 1.7365 - accuracy: 0.4487 - val_loss: 1.7640 - val_accuracy: 0.4630\n",
      "Epoch 42/100\n",
      "695/695 [==============================] - 698s 1s/step - loss: 1.7092 - accuracy: 0.4574 - val_loss: 1.7634 - val_accuracy: 0.4694\n",
      "Epoch 43/100\n",
      "695/695 [==============================] - 699s 1s/step - loss: 1.7216 - accuracy: 0.4562 - val_loss: 1.7711 - val_accuracy: 0.4469\n",
      "Epoch 44/100\n",
      "695/695 [==============================] - 700s 1s/step - loss: 1.7016 - accuracy: 0.4655 - val_loss: 1.7089 - val_accuracy: 0.4869\n",
      "Epoch 45/100\n",
      "695/695 [==============================] - 723s 1s/step - loss: 1.6838 - accuracy: 0.4742 - val_loss: 1.6746 - val_accuracy: 0.4892\n",
      "Epoch 46/100\n",
      "695/695 [==============================] - 700s 1s/step - loss: 1.6977 - accuracy: 0.4636 - val_loss: 1.6955 - val_accuracy: 0.4760\n",
      "Epoch 47/100\n",
      "695/695 [==============================] - 699s 1s/step - loss: 1.6947 - accuracy: 0.4664 - val_loss: 1.7119 - val_accuracy: 0.4702\n",
      "Epoch 48/100\n",
      "695/695 [==============================] - 699s 1s/step - loss: 1.6816 - accuracy: 0.4704 - val_loss: 1.6541 - val_accuracy: 0.4929\n",
      "Epoch 49/100\n",
      "695/695 [==============================] - 701s 1s/step - loss: 1.6680 - accuracy: 0.4779 - val_loss: 1.6818 - val_accuracy: 0.4823\n",
      "Epoch 50/100\n",
      "695/695 [==============================] - 702s 1s/step - loss: 1.6566 - accuracy: 0.4813 - val_loss: 1.6448 - val_accuracy: 0.5062\n",
      "Epoch 51/100\n",
      "695/695 [==============================] - 699s 1s/step - loss: 1.6708 - accuracy: 0.4787 - val_loss: 1.6540 - val_accuracy: 0.4999\n",
      "Epoch 52/100\n",
      "695/695 [==============================] - 700s 1s/step - loss: 1.6610 - accuracy: 0.4836 - val_loss: 1.7626 - val_accuracy: 0.4685\n",
      "Epoch 53/100\n",
      "695/695 [==============================] - 698s 1s/step - loss: 1.6641 - accuracy: 0.4741 - val_loss: 1.6527 - val_accuracy: 0.5053\n",
      "Epoch 54/100\n",
      "695/695 [==============================] - 699s 1s/step - loss: 1.6570 - accuracy: 0.4786 - val_loss: 1.7902 - val_accuracy: 0.4647\n",
      "Epoch 55/100\n",
      "695/695 [==============================] - 700s 1s/step - loss: 1.6691 - accuracy: 0.4786 - val_loss: 1.8256 - val_accuracy: 0.4340\n",
      "Epoch 56/100\n",
      "695/695 [==============================] - 700s 1s/step - loss: 1.6577 - accuracy: 0.4826 - val_loss: 1.7278 - val_accuracy: 0.4748\n",
      "Epoch 57/100\n",
      "695/695 [==============================] - 698s 1s/step - loss: 1.6555 - accuracy: 0.4806 - val_loss: 1.6984 - val_accuracy: 0.4872\n",
      "Epoch 58/100\n",
      "695/695 [==============================] - 698s 1s/step - loss: 1.6866 - accuracy: 0.4755 - val_loss: 1.8396 - val_accuracy: 0.4538\n",
      "Epoch 59/100\n",
      "695/695 [==============================] - 700s 1s/step - loss: 1.6933 - accuracy: 0.4692 - val_loss: 1.8480 - val_accuracy: 0.4466\n",
      "Epoch 60/100\n",
      "695/695 [==============================] - 700s 1s/step - loss: 1.6430 - accuracy: 0.4820 - val_loss: 1.7275 - val_accuracy: 0.4840\n",
      "Epoch 61/100\n",
      "695/695 [==============================] - 700s 1s/step - loss: 1.6371 - accuracy: 0.4887 - val_loss: 1.7455 - val_accuracy: 0.4699\n",
      "Epoch 62/100\n",
      "695/695 [==============================] - 699s 1s/step - loss: 1.6433 - accuracy: 0.4910 - val_loss: 1.7613 - val_accuracy: 0.4633\n",
      "Epoch 63/100\n",
      "695/695 [==============================] - 699s 1s/step - loss: 1.6174 - accuracy: 0.4918 - val_loss: 1.6564 - val_accuracy: 0.5073\n",
      "Epoch 64/100\n",
      "695/695 [==============================] - 699s 1s/step - loss: 1.6173 - accuracy: 0.4973 - val_loss: 1.6548 - val_accuracy: 0.5082\n",
      "Epoch 65/100\n",
      "695/695 [==============================] - 700s 1s/step - loss: 1.6145 - accuracy: 0.4910 - val_loss: 1.7859 - val_accuracy: 0.4656\n",
      "Epoch 66/100\n",
      "695/695 [==============================] - 707s 1s/step - loss: 1.6450 - accuracy: 0.4912 - val_loss: 1.5797 - val_accuracy: 0.5188\n",
      "Epoch 67/100\n",
      "695/695 [==============================] - 713s 1s/step - loss: 1.6254 - accuracy: 0.4948 - val_loss: 1.6705 - val_accuracy: 0.5016\n",
      "Epoch 68/100\n",
      "695/695 [==============================] - 718s 1s/step - loss: 1.6165 - accuracy: 0.4943 - val_loss: 1.7746 - val_accuracy: 0.4751\n",
      "Epoch 69/100\n",
      "695/695 [==============================] - 703s 1s/step - loss: 1.5972 - accuracy: 0.5031 - val_loss: 1.8047 - val_accuracy: 0.4676\n",
      "Epoch 70/100\n",
      "695/695 [==============================] - 691s 995ms/step - loss: 1.6137 - accuracy: 0.5022 - val_loss: 1.7402 - val_accuracy: 0.4791\n",
      "Epoch 71/100\n",
      "695/695 [==============================] - 771s 1s/step - loss: 1.5963 - accuracy: 0.5028 - val_loss: 1.6907 - val_accuracy: 0.4944\n",
      "Epoch 72/100\n",
      "695/695 [==============================] - 829s 1s/step - loss: 1.6148 - accuracy: 0.4979 - val_loss: 1.7460 - val_accuracy: 0.4964\n",
      "Epoch 73/100\n",
      "695/695 [==============================] - 770s 1s/step - loss: 1.6133 - accuracy: 0.5010 - val_loss: 1.7050 - val_accuracy: 0.4889\n",
      "Epoch 74/100\n",
      "695/695 [==============================] - 885s 1s/step - loss: 1.5945 - accuracy: 0.5070 - val_loss: 1.6191 - val_accuracy: 0.5240\n",
      "Epoch 75/100\n",
      "695/695 [==============================] - 857s 1s/step - loss: 1.5760 - accuracy: 0.5050 - val_loss: 1.6096 - val_accuracy: 0.5306\n",
      "Epoch 76/100\n",
      "695/695 [==============================] - 887s 1s/step - loss: 1.5867 - accuracy: 0.5081 - val_loss: 1.6820 - val_accuracy: 0.5013\n",
      "Epoch 77/100\n",
      "695/695 [==============================] - 857s 1s/step - loss: 1.6193 - accuracy: 0.5050 - val_loss: 1.7571 - val_accuracy: 0.4849\n",
      "Epoch 78/100\n",
      "695/695 [==============================] - 867s 1s/step - loss: 1.5992 - accuracy: 0.5028 - val_loss: 1.6493 - val_accuracy: 0.5191\n",
      "Epoch 79/100\n",
      "695/695 [==============================] - 863s 1s/step - loss: 1.6175 - accuracy: 0.4975 - val_loss: 1.7617 - val_accuracy: 0.4999\n",
      "Epoch 80/100\n",
      "695/695 [==============================] - 873s 1s/step - loss: 1.5958 - accuracy: 0.5018 - val_loss: 1.7164 - val_accuracy: 0.4929\n",
      "Epoch 81/100\n",
      "695/695 [==============================] - 829s 1s/step - loss: 1.5905 - accuracy: 0.5054 - val_loss: 1.7691 - val_accuracy: 0.4788\n",
      "Epoch 82/100\n",
      "695/695 [==============================] - 868s 1s/step - loss: 1.5729 - accuracy: 0.5110 - val_loss: 1.6752 - val_accuracy: 0.4929\n",
      "Epoch 83/100\n",
      "695/695 [==============================] - 866s 1s/step - loss: 1.5966 - accuracy: 0.5023 - val_loss: 1.7591 - val_accuracy: 0.4826\n",
      "Epoch 84/100\n",
      "695/695 [==============================] - 862s 1s/step - loss: 1.5847 - accuracy: 0.5099 - val_loss: 1.7421 - val_accuracy: 0.4947\n",
      "Epoch 85/100\n",
      "695/695 [==============================] - 790s 1s/step - loss: 1.5839 - accuracy: 0.5077 - val_loss: 1.6708 - val_accuracy: 0.5099\n",
      "Epoch 86/100\n",
      "695/695 [==============================] - 854s 1s/step - loss: 1.5952 - accuracy: 0.5023 - val_loss: 1.6323 - val_accuracy: 0.5217\n",
      "Epoch 87/100\n",
      "695/695 [==============================] - 869s 1s/step - loss: 1.5886 - accuracy: 0.5100 - val_loss: 1.7550 - val_accuracy: 0.4878\n",
      "Epoch 88/100\n",
      "695/695 [==============================] - 865s 1s/step - loss: 1.5632 - accuracy: 0.5146 - val_loss: 1.6265 - val_accuracy: 0.5114\n",
      "Epoch 89/100\n",
      "695/695 [==============================] - 862s 1s/step - loss: 1.5635 - accuracy: 0.5195 - val_loss: 1.6382 - val_accuracy: 0.5186\n",
      "Epoch 90/100\n",
      "695/695 [==============================] - 798s 1s/step - loss: 1.5825 - accuracy: 0.5138 - val_loss: 1.6538 - val_accuracy: 0.5137\n",
      "Epoch 91/100\n",
      "695/695 [==============================] - 855s 1s/step - loss: 1.5610 - accuracy: 0.5179 - val_loss: 1.6925 - val_accuracy: 0.5105\n",
      "Epoch 92/100\n",
      "695/695 [==============================] - 873s 1s/step - loss: 1.5764 - accuracy: 0.5151 - val_loss: 1.6591 - val_accuracy: 0.5252\n",
      "Epoch 93/100\n",
      "695/695 [==============================] - 859s 1s/step - loss: 1.5317 - accuracy: 0.5272 - val_loss: 1.6789 - val_accuracy: 0.5341\n",
      "Epoch 94/100\n",
      "695/695 [==============================] - 746s 1s/step - loss: 1.5520 - accuracy: 0.5180 - val_loss: 1.7347 - val_accuracy: 0.4927\n",
      "Epoch 95/100\n",
      "695/695 [==============================] - 779s 1s/step - loss: 1.5648 - accuracy: 0.5175 - val_loss: 1.8655 - val_accuracy: 0.4624\n",
      "Epoch 96/100\n",
      "695/695 [==============================] - 869s 1s/step - loss: 1.5526 - accuracy: 0.5246 - val_loss: 1.7881 - val_accuracy: 0.4757\n",
      "Epoch 97/100\n",
      "695/695 [==============================] - 828s 1s/step - loss: 1.5602 - accuracy: 0.5198 - val_loss: 1.6590 - val_accuracy: 0.5137\n",
      "Epoch 98/100\n",
      "695/695 [==============================] - 803s 1s/step - loss: 1.5931 - accuracy: 0.5104 - val_loss: 1.7085 - val_accuracy: 0.4875\n",
      "Epoch 99/100\n",
      "695/695 [==============================] - 825s 1s/step - loss: 1.6130 - accuracy: 0.5010 - val_loss: 1.6427 - val_accuracy: 0.5168\n",
      "Epoch 100/100\n",
      "695/695 [==============================] - 743s 1s/step - loss: 1.5971 - accuracy: 0.5079 - val_loss: 1.6261 - val_accuracy: 0.5065\n"
     ]
    }
   ],
   "source": [
    "history = model.fit(train_generator, validation_data = test_generator,\n",
    "                    #steps_per_epoch = 1200, \n",
    "                    epochs = 100, # epochs a 100\n",
    "                    #validation_steps = 50, \n",
    "                    verbose = 1)"
   ]
  },
  {
   "cell_type": "code",
   "execution_count": 58,
   "metadata": {
    "scrolled": true
   },
   "outputs": [],
   "source": [
    "model.save(r\"saved\\primera_CNN.h5\")"
   ]
  },
  {
   "cell_type": "code",
   "execution_count": 49,
   "metadata": {
    "scrolled": true
   },
   "outputs": [
    {
     "name": "stdout",
     "output_type": "stream",
     "text": [
      "174/174 [==============================] - 86s 492ms/step - loss: 1.6261 - accuracy: 0.5065\n"
     ]
    },
    {
     "data": {
      "text/plain": [
       "[1.6261372566223145, 0.5064747929573059]"
      ]
     },
     "execution_count": 49,
     "metadata": {},
     "output_type": "execute_result"
    }
   ],
   "source": [
    "model.evaluate(test_generator)  #REDUNDANTE. Ya se hace durante el entrenamiento (fase final por epoch)"
   ]
  },
  {
   "cell_type": "markdown",
   "metadata": {},
   "source": [
    "### Testing save and load model"
   ]
  },
  {
   "cell_type": "code",
   "execution_count": 54,
   "metadata": {},
   "outputs": [],
   "source": [
    "model_from_file = tf.keras.models.load_model('saved/primera_CNN.h5')"
   ]
  },
  {
   "cell_type": "code",
   "execution_count": 55,
   "metadata": {},
   "outputs": [
    {
     "name": "stdout",
     "output_type": "stream",
     "text": [
      "174/174 [==============================] - 86s 497ms/step - loss: 1.6261 - accuracy: 0.5065\n"
     ]
    },
    {
     "data": {
      "text/plain": [
       "[1.626137137413025, 0.5064747929573059]"
      ]
     },
     "execution_count": 55,
     "metadata": {},
     "output_type": "execute_result"
    }
   ],
   "source": [
    "model_from_file.evaluate(test_generator)"
   ]
  },
  {
   "cell_type": "markdown",
   "metadata": {},
   "source": [
    "### Plotting training and validation metrics"
   ]
  },
  {
   "cell_type": "code",
   "execution_count": 48,
   "metadata": {},
   "outputs": [
    {
     "data": {
      "image/png": "[encoded data removed]",
      "text/plain": [
       "<Figure size 1080x1080 with 2 Axes>"
      ]
     },
     "metadata": {
      "needs_background": "light"
     },
     "output_type": "display_data"
    }
   ],
   "source": [
    "acc = history.history['accuracy']\n",
    "val_acc = history.history['val_accuracy']\n",
    "loss = history.history['loss']\n",
    "val_loss = history.history['val_loss']\n",
    "\n",
    "epochs_range = range(100)\n",
    "\n",
    "plt.figure(figsize=(15, 15))\n",
    "plt.subplot(2, 2, 1)\n",
    "plt.plot(epochs_range, acc, label='Training Accuracy')\n",
    "plt.plot(epochs_range, val_acc, label='Validation Accuracy')\n",
    "plt.legend(loc='lower right')\n",
    "plt.title('Training and Validation Accuracy')\n",
    "\n",
    "plt.subplot(2, 2, 2)\n",
    "plt.plot(epochs_range, loss, label='Training Loss')\n",
    "plt.plot(epochs_range, val_loss, label='Validation Loss')\n",
    "plt.legend(loc='upper right')\n",
    "plt.title('Training and Validation Loss')\n",
    "plt.show()"
   ]
  },
  {
   "cell_type": "markdown",
   "metadata": {},
   "source": [
    "### Draft - Model evaluation with random image"
   ]
  },
  {
   "cell_type": "code",
   "execution_count": 2,
   "metadata": {},
   "outputs": [],
   "source": [
    "# Escribir email a Roberto para ver cómo pasar imágenes a la red para evaluarla\n",
    "'''from tensorflow.keras.preprocessing import image\n",
    "\n",
    "imgpath = 'fut1.jpg'\n",
    "imagen = image.load_img(imgpath, target_size=(256,256))\n",
    "\n",
    "w = image.img_to_array(imagen)\n",
    "w = np.expand_dims(x, axis=0)   # Mirar documentación de la función\n",
    "w = np.expand_dims(x, axis=0)\n",
    "imagenes = np.vstack([w])\n",
    "\n",
    "classes = model.predict(w, batch_size=20)\n",
    "\n",
    "print(classes[0])''';"
   ]
  }
 ],
 "metadata": {
  "kernelspec": {
   "display_name": "Python 3",
   "language": "python",
   "name": "python3"
  },
  "language_info": {
   "codemirror_mode": {
    "name": "ipython",
    "version": 3
   },
   "file_extension": ".py",
   "mimetype": "text/x-python",
   "name": "python",
   "nbconvert_exporter": "python",
   "pygments_lexer": "ipython3",
   "version": "3.8.3"
  }
 },
 "nbformat": 4,
 "nbformat_minor": 4
}
